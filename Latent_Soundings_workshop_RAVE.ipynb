{
  "nbformat": 4,
  "nbformat_minor": 0,
  "metadata": {
    "colab": {
      "provenance": [],
      "machine_shape": "hm",
      "toc_visible": true,
      "include_colab_link": true
    },
    "kernelspec": {
      "name": "python3",
      "display_name": "Python 3"
    },
    "language_info": {
      "name": "python"
    },
    "accelerator": "GPU"
  },
  "cells": [
    {
      "cell_type": "markdown",
      "metadata": {
        "id": "view-in-github",
        "colab_type": "text"
      },
      "source": [
        "<a href=\"https://colab.research.google.com/github/hdparmar/AI-Music/blob/main/Latent_Soundings_workshop_RAVE.ipynb\" target=\"_parent\"><img src=\"https://colab.research.google.com/assets/colab-badge.svg\" alt=\"Open In Colab\"/></a>"
      ]
    },
    {
      "cell_type": "code",
      "source": [
        "#@title README\n",
        "!yes | pip install --quiet pyfiglet\n",
        "\n",
        "import pyfiglet\n",
        "  \n",
        "resulta = pyfiglet.figlet_format(f\"RAVE\", font = \"isometric1\", )\n",
        "# resultb = pyfiglet.figlet_format(f\"TRAIN\", font = \"isometric2\", )\n",
        "print(resulta)\n",
        "# print(resultb)\n",
        "print(\"\\n\")\n",
        "print(\"\\n\")\n",
        "print(\"RAVE: Realtime Audio Variational autoEncoder | Authors: Antoine Caillon, Acids-IRCAM | https://github.com/acids-ircam/RAVE | https://arxiv.org/abs/2111.05011\")\n",
        "print(\"Custom collab implementation by Moisés Horta | http://twitter.com/hexorcismos | http://github.com/moiseshorta\")\n",
        "print(\"\\n\")\n",
        "print(\"Last Modified: 4.October.2022\")"
      ],
      "metadata": {
        "colab": {
          "base_uri": "https://localhost:8080/"
        },
        "cellView": "form",
        "id": "pMrgS5Yn7Us7",
        "outputId": "54a62606-2e78-4db6-c0ee-0daf8b8043c4"
      },
      "execution_count": null,
      "outputs": [
        {
          "output_type": "stream",
          "name": "stdout",
          "text": [
            "      ___           ___           ___           ___     \n",
            "     /\\  \\         /\\  \\         /\\__\\         /\\  \\    \n",
            "    /::\\  \\       /::\\  \\       /:/  /        /::\\  \\   \n",
            "   /:/\\:\\  \\     /:/\\:\\  \\     /:/  /        /:/\\:\\  \\  \n",
            "  /::\\~\\:\\  \\   /::\\~\\:\\  \\   /:/__/  ___   /::\\~\\:\\  \\ \n",
            " /:/\\:\\ \\:\\__\\ /:/\\:\\ \\:\\__\\  |:|  | /\\__\\ /:/\\:\\ \\:\\__\\\n",
            " \\/_|::\\/:/  / \\/__\\:\\/:/  /  |:|  |/:/  / \\:\\~\\:\\ \\/__/\n",
            "    |:|::/  /       \\::/  /   |:|__/:/  /   \\:\\ \\:\\__\\  \n",
            "    |:|\\/__/        /:/  /     \\::::/__/     \\:\\ \\/__/  \n",
            "    |:|  |         /:/  /       ~~~~          \\:\\__\\    \n",
            "     \\|__|         \\/__/                       \\/__/    \n",
            "\n",
            "\n",
            "\n",
            "\n",
            "\n",
            "RAVE: Realtime Audio Variational autoEncoder | Authors: Antoine Caillon, Acids-IRCAM | https://github.com/acids-ircam/RAVE | https://arxiv.org/abs/2111.05011\n",
            "Custom collab implementation by Moisés Horta | http://twitter.com/hexorcismos | http://github.com/moiseshorta\n",
            "\n",
            "\n",
            "Last Modified: 4.October.2022\n"
          ]
        }
      ]
    },
    {
      "cell_type": "code",
      "execution_count": 1,
      "metadata": {
        "id": "HQapDcKr7YV-",
        "cellView": "form",
        "outputId": "a7fb359c-439a-4ab9-bf98-f77e4e129af3",
        "colab": {
          "base_uri": "https://localhost:8080/"
        }
      },
      "outputs": [
        {
          "output_type": "stream",
          "name": "stdout",
          "text": [
            "Thu Nov 24 15:21:11 2022       \n",
            "+-----------------------------------------------------------------------------+\n",
            "| NVIDIA-SMI 460.32.03    Driver Version: 460.32.03    CUDA Version: 11.2     |\n",
            "|-------------------------------+----------------------+----------------------+\n",
            "| GPU  Name        Persistence-M| Bus-Id        Disp.A | Volatile Uncorr. ECC |\n",
            "| Fan  Temp  Perf  Pwr:Usage/Cap|         Memory-Usage | GPU-Util  Compute M. |\n",
            "|                               |                      |               MIG M. |\n",
            "|===============================+======================+======================|\n",
            "|   0  Tesla T4            Off  | 00000000:00:04.0 Off |                    0 |\n",
            "| N/A   38C    P8     9W /  70W |      0MiB / 15109MiB |      0%      Default |\n",
            "|                               |                      |                  N/A |\n",
            "+-------------------------------+----------------------+----------------------+\n",
            "                                                                               \n",
            "+-----------------------------------------------------------------------------+\n",
            "| Processes:                                                                  |\n",
            "|  GPU   GI   CI        PID   Type   Process name                  GPU Memory |\n",
            "|        ID   ID                                                   Usage      |\n",
            "|=============================================================================|\n",
            "|  No running processes found                                                 |\n",
            "+-----------------------------------------------------------------------------+\n"
          ]
        }
      ],
      "source": [
        "#@title Check GPU\n",
        "\n",
        "import subprocess\n",
        "!nvidia-smi\n"
      ]
    },
    {
      "cell_type": "code",
      "source": [
        "#@title Anti-disconnect from Colab\n",
        "\n",
        "import IPython\n",
        "js_code = '''\n",
        "function ClickConnect(){\n",
        "console.log(\"Working\");\n",
        "document.querySelector(\"colab-toolbar-button#connect\").click()\n",
        "}\n",
        "setInterval(ClickConnect,60000)\n",
        "'''\n",
        "display(IPython.display.Javascript(js_code))"
      ],
      "metadata": {
        "id": "_6GvzMiT7jGo",
        "cellView": "form"
      },
      "execution_count": null,
      "outputs": []
    },
    {
      "cell_type": "code",
      "source": [
        "#@title Mount Google Drive\n",
        "from google.colab import drive\n",
        "drive.mount('/content/drive')"
      ],
      "metadata": {
        "id": "Yjj8Yj-PY0Q9",
        "cellView": "form"
      },
      "execution_count": null,
      "outputs": []
    },
    {
      "cell_type": "code",
      "source": [
        "#@title Clone repository & install dependencies\n",
        "\n",
        "%cd /content/drive/MyDrive\n",
        "!git clone --quiet --depth 1 https://github.com/acids-ircam/RAVE.git RAVE_COLLAB\n",
        "print(\"Cloned RAVE repository\")\n",
        "%cd /content/drive/MyDrive/RAVE_COLLAB\n",
        "!curl -L https://repo.anaconda.com/miniconda/Miniconda3-py39_4.12.0-Linux-x86_64.sh -o miniconda.sh\n",
        "!chmod +x miniconda.sh\n",
        "!sh miniconda.sh -b -p /content/miniconda\n",
        "!/content/miniconda/bin/pip install --quiet -r requirements.txt\n",
        "!/content/miniconda/bin/pip install --quiet --upgrade ipython ipykernel\n",
        "!pip install youtube-dl\n",
        "print(\"Succesfully installed requirements\")"
      ],
      "metadata": {
        "id": "V4wWTVf57mv8",
        "cellView": "form"
      },
      "execution_count": null,
      "outputs": []
    },
    {
      "cell_type": "code",
      "source": [
        "#@title [Optional] Download audio dataset from Youtube\n",
        "\n",
        "!mkdir dataset \n",
        "%cd dataset\n",
        "\n",
        "youtube_link = \"https://www.youtube.com/watch?v=h2OuSwK7yn0\" #@param {type:\"string\"}\n",
        "\n",
        "!youtube-dl -x --audio-format wav --audio-quality 0 $youtube_link "
      ],
      "metadata": {
        "id": "kLEt6PLoPwhi",
        "cellView": "form"
      },
      "execution_count": null,
      "outputs": []
    },
    {
      "cell_type": "code",
      "source": [
        "#@title [Optional] Apply audio augmentation to your dataset and check total duration\n",
        "\n",
        "dataset = \"/path/to/your/dataset\" #@param {type:\"string\"}\n",
        "sample_rate = 48000 #@param {type:\"integer\"}\n",
        "\n",
        "%cd $dataset\n",
        "\n",
        "!/content/miniconda/bin/resample --input $dataset --sr $sample_rate --output $dataset/resampled/\n",
        "\n",
        "%cd $dataset/resampled/\n",
        "\n",
        "!/content/miniconda/bin/duration\n",
        "\n"
      ],
      "metadata": {
        "id": "wh3qXCKKTsKV",
        "cellView": "form"
      },
      "execution_count": null,
      "outputs": []
    },
    {
      "cell_type": "markdown",
      "source": [
        "## *Training*"
      ],
      "metadata": {
        "id": "An090S938lha"
      }
    },
    {
      "cell_type": "markdown",
      "source": [
        "## Configure your training\n",
        "\n",
        "Here you can define the parameters for your training, also called *run*. This is a collab version of the `cli_helper.py` script.\n",
        "\n",
        "Input dataset is the path to your audio dataset. \n",
        "\n",
        "**PRO TIP**: using the left panel you can navigate to your Drive, find your dataset folder, right click and copy its path ! "
      ],
      "metadata": {
        "id": "pAWZGYYfb0i3"
      }
    },
    {
      "cell_type": "code",
      "source": [
        "training_name = \"test\"  #@param {type:\"string\"}\n",
        "input_dataset = \"/path/to/audio/dataset.wav\"  #@param {type:\"string\"}\n",
        "sampling_rate = 48000  #@param {type:\"integer\"}\n",
        "multiband_number = 16  #@param {type:\"integer\"}\n",
        "n_signal = 65536  #@param {type:\"integer\"}\n",
        "size = \"default\"  #@param [\"small\", \"default\", \"large\"]\n",
        "prior = 32  #@param {type:\"integer\"}\n",
        "fidelity = 99  #@param {type:\"slider\", min:80, max:99, step:1}\n",
        "no_latency_mode = False  #@param {type:\"boolean\"}\n",
        "regularization_strength = 0.1  #@param {type:\"slider\", min:0.001, max:1, step:0.001}\n",
        "validation_every = 2500  #@param {type:\"integer\"}\n",
        "\n",
        "training_name = training_name.replace(\" \", \"_\").lower()\n",
        "no_latency_mode = \"true\" if no_latency_mode else \"false\"\n",
        "# sampling_rate = str(sampling_rate)\n",
        "# multiband_number = str(multiband_number)\n",
        "# n_signal = str(n_signal)\n",
        "# prior = str(prior)\n",
        "# fidelity = str(fidelity)\n",
        "# regularization_strength = str(regularization_strength)\n"
      ],
      "metadata": {
        "cellView": "form",
        "id": "3uv_XWr3bsL7"
      },
      "execution_count": null,
      "outputs": []
    },
    {
      "cell_type": "code",
      "source": [
        "#@title Setup Tensorboard to monitor training\n",
        "\n",
        "%cd /content/drive/MyDrive/RAVE_COLLAB\n",
        "%load_ext tensorboard\n",
        "%tensorboard --logdir . --bind_all "
      ],
      "metadata": {
        "id": "SKBWN8f-ByrJ",
        "cellView": "form"
      },
      "execution_count": null,
      "outputs": []
    },
    {
      "cell_type": "code",
      "source": [
        "#@title Begin training!\n",
        "\n",
        "%cd /content/drive/MyDrive/RAVE_COLLAB\n",
        "\n",
        "!/content/miniconda/bin/python train_rave.py \\\n",
        "  -c $size \\\n",
        "  --data-size $multiband_number \\\n",
        "  --no-latency $no_latency_mode \\\n",
        "  --min-kl $regularization_strength \\\n",
        "  --max-kl $regularization_strength \\\n",
        "  --ckpt /content/drive/MyDrive/RAVE_COLLAB/runs/$training_name/rave/ \\\n",
        "  --preprocessed /content/preprocessed/rave \\\n",
        "  --wav $input_dataset \\\n",
        "  --sr $sampling_rate \\\n",
        "  --n-signal $n_signal \\\n",
        "  --val-every $validation_every \\\n",
        "  --name $training_name"
      ],
      "metadata": {
        "id": "KuORQP0N7q4z",
        "cellView": "form"
      },
      "execution_count": null,
      "outputs": []
    },
    {
      "cell_type": "code",
      "source": [
        "#@title Resume training\n",
        "\n",
        "\n",
        "checkpoint = \"/path/to/rave.ckpt\" #@param {type:\"string\"}\n",
        "\n",
        "%cd /content/drive/MyDrive/RAVE_COLLAB\n",
        "!/content/miniconda/bin/python train_rave.py \\\n",
        "  -c $size --data-size $multiband_number \\\n",
        "  --no-latency $no_latency_mode \\\n",
        "  --min-kl $regularization_strength \\\n",
        "  --max-kl $regularization_strength \\\n",
        "  --ckpt $checkpoint \\\n",
        "  --preprocessed /content/preprocessed/rave \\\n",
        "  --wav $input_dataset \\\n",
        "  --sr $sampling_rate \\\n",
        "  --n-signal $n_signal \\\n",
        "  --val-every $validation_every \\\n",
        "  --name $training_name"
      ],
      "metadata": {
        "id": "PN2X9WkjBKFD",
        "cellView": "form"
      },
      "execution_count": null,
      "outputs": []
    },
    {
      "cell_type": "code",
      "source": [
        "#@title Export trained RAVE as torchscript (.ts)\n",
        "\n",
        "name_of_run = \"test\" #@param {type:\"string\"}\n",
        "# checkpoint = \"/path/to/checkpoint.ckpt\" #@param {type:\"string\"}\n",
        "\n",
        "# !python /content/RAVE/export_rave.py \\\n",
        "#   --name $name_of_run \\\n",
        "#   --run $checkpoint \\\n",
        "#   --cached true \\\n",
        "#   --fidelity 0.95 \\\n",
        "#   --stereo true\n",
        "\n",
        "checkpoint = \"/path/to/rave.ckpt\"  #@param {type:\"string\"}\n",
        "\n",
        "%cd /content/drive/MyDrive/RAVE_COLLAB\n",
        "\n",
        "!/content/miniconda/bin/python export_rave.py --run $checkpoint --cached false --name $name_of_run\n",
        "!/content/miniconda/bin/python export_rave.py --run $checkpoint --cached true --name {name_of_run}_rt"
      ],
      "metadata": {
        "id": "B9iz90MYHe6i",
        "cellView": "form"
      },
      "execution_count": null,
      "outputs": []
    },
    {
      "cell_type": "code",
      "source": [
        "#@title Begin training Prior\n",
        "\n",
        "name_of_run = \"test\" #@param {type:\"string\"}\n",
        "audio_dataset = \"/path/to/audio/dataset\" #@param {type:\"string\"}\n",
        "pretrained_rave = \"/path/to/pretrained-rave.ts\" #@param {type:\"string\"}\n",
        "# preprocessed_audio_location = \"/content/temp4\"\n",
        "\n",
        "# !python /content/drive/MyDrive/RAVE_repo/update/RAVE/train_prior.py \\\n",
        "#   --name $name_of_run \\\n",
        "#   --wav $audio_dataset \\\n",
        "#   --preprocessed $preprocessed_audio_location \\\n",
        "#   --pretrained-vae $pretrained_rave\n",
        "\n",
        "\n",
        "%cd /content/drive/MyDrive/RAVE_COLLAB/\n",
        "\n",
        "!/content/miniconda/bin/python train_prior.py \\\n",
        "  --pretrained-vae rave_{name_of_run}.ts \\\n",
        "  --preprocessed /content/preprocessed/prior \\\n",
        "  --wav $audio_dataset \\\n",
        "  --name $name_of_run \\\n",
        "  --val-every $validation_every"
      ],
      "metadata": {
        "id": "E3BFoe4sJS_R",
        "cellView": "form"
      },
      "execution_count": null,
      "outputs": []
    },
    {
      "cell_type": "markdown",
      "source": [
        "## *Synthesize audio*"
      ],
      "metadata": {
        "id": "DRG7-MKc86Ou"
      }
    },
    {
      "cell_type": "code",
      "source": [
        "#@title Perform Timbre Transfer on a folder of wavs\n",
        "\n",
        "checkpoint = \"/path/to/checkpoint.ckpt\" #@param {type:\"string\"}\n",
        "wav_folder = \"/path/to/wav/folder\" #@param {type:\"string\"}\n",
        "\n",
        "%cd /content/drive/MyDrive/RAVE_COLLAB/\n",
        "\n",
        "!/content/miniconda/bin/python reconstruct.py \\\n",
        "  --ckpt $checkpoint \\\n",
        "  --wav-folder $wav_folder"
      ],
      "metadata": {
        "id": "3W8onpK19MSI",
        "cellView": "form"
      },
      "execution_count": null,
      "outputs": []
    },
    {
      "cell_type": "code",
      "source": [
        "#@title Modify the latent dimensions for timbre transfer exploration\n",
        "\n",
        "exported_rave_ts = \"/path/to/pretrained-rave.ts\" #@param {type:\"string\"}\n",
        "input_audio = \"/path/to/audio.wav\" #@param {type:\"string\"}\n",
        "output_audio = \"/content/rave_out.wav\" #@param {type:\"string\"}\n",
        "\n",
        "#@markdown > Latent Dimension Parameters\n",
        "d0 = 1.09 #@param {type:\"slider\", min:-3, max:3, step:0.01}\n",
        "d1 = 0 #@param {type:\"slider\", min:-3, max:3, step:0.01}\n",
        "d2 = 0 #@param {type:\"slider\", min:-3, max:3, step:0.01}\n",
        "d3 = 0 #@param {type:\"slider\", min:-3, max:3, step:0.01}\n",
        "\n",
        "import torch\n",
        "import librosa as li\n",
        "import soundfile as sf\n",
        "import IPython\n",
        "\n",
        "torch.set_grad_enabled(False)\n",
        "\n",
        "model = torch.jit.load(exported_rave_ts).eval()\n",
        "print(\"Loaded\",exported_rave_ts)\n",
        "x = li.load(input_audio)[0]\n",
        "\n",
        "#ENCODE AUDIO TO LATENT REPRESENTATION\n",
        "x = torch.from_numpy(x).reshape(1, 1, -1)\n",
        "z = model.encode(x)\n",
        "print(\"Encoded\",input_audio)\n",
        "\n",
        "#BIAS LATENT DIMENSIONS\n",
        "z[:, 0] += torch.linspace(d0,d0, z.shape[-1])\n",
        "z[:, 1] += torch.linspace(d1,d1, z.shape[-1])\n",
        "z[:, 2] += torch.linspace(d2,d2, z.shape[-1])\n",
        "z[:, 3] += torch.linspace(d3,d3, z.shape[-1])\n",
        "\n",
        "#SYNTHESIZE AUDIO\n",
        "y = model.decode(z).numpy().reshape(-1)\n",
        "sf.write(output_audio, y, 48000)\n",
        "\n",
        "print(\"RAVE output:\")\n",
        "IPython.display.Audio(output_audio)\n"
      ],
      "metadata": {
        "id": "RZ7P0lDDBkhA",
        "cellView": "form"
      },
      "execution_count": null,
      "outputs": []
    },
    {
      "cell_type": "code",
      "source": [
        "#@title Unconditional neural audio synthesis using RAVE + Prior\n",
        "\n",
        "prior_checkpoint = \"/path/to/prior.ckpt\" #@param {type:\"string\"}\n",
        "exported_rave = \"/path/to/pretrained-rave.ts\" #@param {type:\"string\"}\n",
        "seconds_to_generate = 15 #@param {type:\"integer\"}\n",
        "output_audio = \"/content/rave+prior_output.wav\" #@param {type:\"string\"}\n",
        "\n",
        "%cd /content/drive/MyDrive/RAVE_COLLAB/\n",
        "\n",
        "\n",
        "!/content/miniconda/bin/python generation.py \\\n",
        "  --prior-ckpt $prior_checkpoint \\\n",
        "  --exported-rave $exported_rave \\\n",
        "  --length $seconds_to_generate \\\n",
        "  --out-path $output_audio\n",
        "\n",
        "print(\"RAVE+Prior output:\")\n",
        "IPython.display.Audio(output_audio)"
      ],
      "metadata": {
        "id": "2ItYyvzFP0_W",
        "cellView": "form"
      },
      "execution_count": null,
      "outputs": []
    }
  ]
}